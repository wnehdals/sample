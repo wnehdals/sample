{
 "cells": [
  {
   "cell_type": "markdown",
   "metadata": {},
   "source": [
    "# Assignment 1"
   ]
  },
  {
   "cell_type": "markdown",
   "metadata": {},
   "source": [
    "### [문제]"
   ]
  },
  {
   "cell_type": "markdown",
   "metadata": {},
   "source": [
    "#### 1. a=\"Hello Python\" 문자열을 Slicing과 연결 연산자(+)를 사용하여 \"Python Hello\"로 변경하시오.\n",
    "  * [주의]a 변수 자체에 \"Python Hello\" 문자열이 저장되어야 함"
   ]
  },
  {
   "cell_type": "code",
   "execution_count": 1,
   "metadata": {},
   "outputs": [
    {
     "name": "stdout",
     "output_type": "stream",
     "text": [
      "Python Hello\n"
     ]
    }
   ],
   "source": [
    "a = \"Hello Python\"\n",
    "a = a[6:12] + \" \" +a[0:5]\n",
    "print(a)"
   ]
  },
  {
   "cell_type": "markdown",
   "metadata": {},
   "source": [
    "[start:stop:step]으로 이루어져 있는 slicing은stop-1번째 인덱스까지 출력한다.\n",
    "6번째 인덱스인P부터11번째인덱스인n까지를 출력하고 \" \"로 띄어쓰기 하고\n",
    " 0번째 인덱스인 H부터 4번째 인덱스인 O까지 출력한다."
   ]
  },
  {
   "cell_type": "markdown",
   "metadata": {},
   "source": [
    "#### 2. b=\"Hello Python World\" 문자열을 Slicing과 연결 연산자 (+)를 사용하여 \"World Python Hello\"로 변경하시오.\n",
    "  * [주의] b 변수 자체에 \"World Python Hello\" 문자열이 저장되어야 함"
   ]
  },
  {
   "cell_type": "code",
   "execution_count": 2,
   "metadata": {},
   "outputs": [
    {
     "name": "stdout",
     "output_type": "stream",
     "text": [
      "World Python Hello\n"
     ]
    }
   ],
   "source": [
    "b = \"Hello Python World\"\n",
    "b = b[13:] + b[5:13] +b[:5]\n",
    "print(b)"
   ]
  },
  {
   "cell_type": "markdown",
   "metadata": {},
   "source": [
    "13번쨰 인덱스W부터 마지막인덱스까지 출력하고 5번째인덱스부터 12번째 인덱스인\n",
    "n까지 출력하고 0번쨰 인덱스부터 4번째인덱스인o까지 출력힌다."
   ]
  },
  {
   "cell_type": "markdown",
   "metadata": {},
   "source": [
    "#### 3. c=\"Hello\"를 \"olleH\"로 변경하시오\n",
    "  * [주의] c 변수 자체에 \"olleH\" 문자열이 저장되어야 함"
   ]
  },
  {
   "cell_type": "code",
   "execution_count": 3,
   "metadata": {},
   "outputs": [
    {
     "name": "stdout",
     "output_type": "stream",
     "text": [
      "olleH\n"
     ]
    }
   ],
   "source": [
    "c = \"Hello\"\n",
    "c = c[::-1]\n",
    "print(c)"
   ]
  },
  {
   "cell_type": "markdown",
   "metadata": {},
   "source": [
    "step칸에 -1이 있으므로 문자열에서 각 문자를-1씩 차이가 나게 문자열을 바꾼다\n",
    "-1칸차이가 나려면 순서가 반대로 바껴야 한다. 그러므로 문자열이 반대로 출력되었다."
   ]
  },
  {
   "cell_type": "markdown",
   "metadata": {},
   "source": [
    "#### 4. s=\"python\"에 대해 다음 문제를 풀어보시오."
   ]
  },
  {
   "cell_type": "markdown",
   "metadata": {},
   "source": [
    " A. s[0], s[0][0], s[0][0][0]은 각각 어떤 값이 나오는지 확인하고 그 이유를 나름대로 설명해 보시오."
   ]
  },
  {
   "cell_type": "code",
   "execution_count": 4,
   "metadata": {},
   "outputs": [
    {
     "name": "stdout",
     "output_type": "stream",
     "text": [
      "p\n",
      "p\n",
      "p\n"
     ]
    }
   ],
   "source": [
    "s = \"python\"\n",
    "print(s[0])\n",
    "print(s[0][0])\n",
    "print(s[0][0][0])"
   ]
  },
  {
   "cell_type": "markdown",
   "metadata": {},
   "source": [
    "문자열은 각 글자가 배열로 만들어진다.\n",
    "\n",
    "배열 s의 0번째 인덱스는 문자열의 제일 처음 문자인 p값을 가지고 있다.\n",
    "그러므로 s[0]은 p가 나온다.\n",
    "\n",
    "s[0][0]은 s[0]배열의0번째 인덱스를 가리킴으로 그 값은 p를 가리키고있다.\n",
    "그러므로 s[0][0]은 p가 나온다.\n",
    "\n",
    "s[0][0][0]은 s[0][0]배열의0번째 인덱스를 가리킴으로 그 값은 p를 가리키고있다.\n",
    "그러므로 s[0][0][0]은 p가 나온다."
   ]
  },
  {
   "cell_type": "markdown",
   "metadata": {},
   "source": [
    "  B. s[-100], s[100]은 값이 나오는지 에러가 나오는지 확인하고 그 결과에 대한 이유를 나름대로 설명해 보시오."
   ]
  },
  {
   "cell_type": "code",
   "execution_count": 8,
   "metadata": {},
   "outputs": [
    {
     "ename": "IndexError",
     "evalue": "string index out of range",
     "output_type": "error",
     "traceback": [
      "\u001b[1;31m---------------------------------------------------------------------------\u001b[0m",
      "\u001b[1;31mIndexError\u001b[0m                                Traceback (most recent call last)",
      "\u001b[1;32m<ipython-input-8-142e48f823a8>\u001b[0m in \u001b[0;36m<module>\u001b[1;34m()\u001b[0m\n\u001b[0;32m      1\u001b[0m \u001b[0ms\u001b[0m \u001b[1;33m=\u001b[0m \u001b[1;34m\"python\"\u001b[0m\u001b[1;33m\u001b[0m\u001b[0m\n\u001b[1;32m----> 2\u001b[1;33m \u001b[0mprint\u001b[0m\u001b[1;33m(\u001b[0m\u001b[0ms\u001b[0m\u001b[1;33m[\u001b[0m\u001b[1;33m-\u001b[0m\u001b[1;36m100\u001b[0m\u001b[1;33m]\u001b[0m\u001b[1;33m)\u001b[0m\u001b[1;33m\u001b[0m\u001b[0m\n\u001b[0m\u001b[0;32m      3\u001b[0m \u001b[0mprint\u001b[0m\u001b[1;33m(\u001b[0m\u001b[0ms\u001b[0m\u001b[1;33m[\u001b[0m\u001b[1;36m100\u001b[0m\u001b[1;33m]\u001b[0m\u001b[1;33m)\u001b[0m\u001b[1;33m\u001b[0m\u001b[0m\n",
      "\u001b[1;31mIndexError\u001b[0m: string index out of range"
     ]
    }
   ],
   "source": [
    "s = \"python\"\n",
    "print(s[-100])\n",
    "print(s[100])"
   ]
  },
  {
   "cell_type": "markdown",
   "metadata": {},
   "source": [
    "s의 문자열의 가지고 있는 인덱스의 범위를 벗어난 s의 배열값을 호출하려 해서 오류가 났다. s = \"python\" 을 하면 s는 크기가 6인 배열이 만들어지고 인덱스는 0부터 5까지 만들어진다.그러므로 s[0],s[1],s[2],s[3],s[4],s[5]이외에는 오류가 발생한다."
   ]
  },
  {
   "cell_type": "markdown",
   "metadata": {},
   "source": [
    "C. s[-100, 100]은 값이 나오는지 에러가 나오는지 확인하고 그 결과에 대한 이유를 나름대로 설명해 보시오."
   ]
  },
  {
   "cell_type": "code",
   "execution_count": 9,
   "metadata": {},
   "outputs": [
    {
     "ename": "TypeError",
     "evalue": "string indices must be integers",
     "output_type": "error",
     "traceback": [
      "\u001b[1;31m---------------------------------------------------------------------------\u001b[0m",
      "\u001b[1;31mTypeError\u001b[0m                                 Traceback (most recent call last)",
      "\u001b[1;32m<ipython-input-9-4c6e2eda3847>\u001b[0m in \u001b[0;36m<module>\u001b[1;34m()\u001b[0m\n\u001b[0;32m      1\u001b[0m \u001b[0ms\u001b[0m \u001b[1;33m=\u001b[0m \u001b[1;34m\"python\"\u001b[0m\u001b[1;33m\u001b[0m\u001b[0m\n\u001b[1;32m----> 2\u001b[1;33m \u001b[0mprint\u001b[0m\u001b[1;33m(\u001b[0m\u001b[0ms\u001b[0m\u001b[1;33m[\u001b[0m\u001b[1;33m-\u001b[0m\u001b[1;36m100\u001b[0m\u001b[1;33m,\u001b[0m\u001b[1;36m100\u001b[0m\u001b[1;33m]\u001b[0m\u001b[1;33m)\u001b[0m\u001b[1;33m\u001b[0m\u001b[0m\n\u001b[0m",
      "\u001b[1;31mTypeError\u001b[0m: string indices must be integers"
     ]
    }
   ],
   "source": [
    "s = \"python\"\n",
    "print(s[-100,100])"
   ]
  },
  {
   "cell_type": "markdown",
   "metadata": {},
   "source": [
    "배열의 인덱스는 정수여야 한다. 위의 문장은 인덱스를 정수가 아닌 -100,100을 인덱스로 하여서 오류가 발생하였다."
   ]
  },
  {
   "cell_type": "markdown",
   "metadata": {},
   "source": [
    "D. s[1:-1]의 결과를 확인하고 그 결과에 대한 이유를 정확하게 설명하시오."
   ]
  },
  {
   "cell_type": "code",
   "execution_count": 13,
   "metadata": {},
   "outputs": [
    {
     "name": "stdout",
     "output_type": "stream",
     "text": [
      "ytho\n"
     ]
    }
   ],
   "source": [
    "s = \"python\"\n",
    "print(s[1:-1])"
   ]
  },
  {
   "cell_type": "markdown",
   "metadata": {},
   "source": [
    "Slicing의 형식은 [start : stop : step]의 형식을 가진다. stop의 값에 해당되는 인덱스는 포함되지 않고 그 전 인덱스까지 포함한다. s[1:-1]은 인덱스 1부터 시작하여 -1인덱스까지 Slicing한다는 의미이다. -1은 문자열 마지막 인덱스랑 같다 그러므로 s[1:5]와 같다고 할 수 있다.1번인덱스인 y부터 -1인덱스인 n은 포함되지 않고 그 전 인덱스까지 포함이니 o까지 출력이 된다."
   ]
  },
  {
   "cell_type": "markdown",
   "metadata": {},
   "source": [
    "E. s[3:-3]의 결과를 확인하고 그 결과에 대한 이유를 정확하게 설명하시오."
   ]
  },
  {
   "cell_type": "code",
   "execution_count": 15,
   "metadata": {},
   "outputs": [
    {
     "name": "stdout",
     "output_type": "stream",
     "text": [
      "\n"
     ]
    }
   ],
   "source": [
    "s = \"python\"\n",
    "print(s[3:-3])"
   ]
  },
  {
   "cell_type": "markdown",
   "metadata": {},
   "source": [
    "Slicing의 형식은 [start : stop : step]의 형식을 가진다. stop의 값에 해당되는 인덱스는 포함되지 않고 그 전 인덱스까지 포함한다. print(s[3,-3])은 3번 인덱스인 h부터 시작하여 -3인덱스인 h까지 출력하여야 하는데 -3인덱스는 포함되지 않고 그 전 인덱스인t까지 출력하라는 의미이다.h부터 시작하여 t까지 출력하라는 문장은 지정되는 범위가 없다. 그러므로 아무것도 출력 할 수 없어서 출력이 되지 않았다."
   ]
  },
  {
   "cell_type": "markdown",
   "metadata": {},
   "source": [
    " #### 5. for문을 활용하여 1부터 100사이의 홀수를 출력하시오."
   ]
  },
  {
   "cell_type": "code",
   "execution_count": 19,
   "metadata": {},
   "outputs": [
    {
     "name": "stdout",
     "output_type": "stream",
     "text": [
      "1 3 5 7 9 11 13 15 17 19 21 23 25 27 29 31 33 35 37 39 41 43 45 47 49 51 53 55 57 59 61 63 65 67 69 71 73 75 77 79 81 83 85 87 89 91 93 95 97 99 "
     ]
    }
   ],
   "source": [
    "for x in range(1,101):\n",
    "    if x%2 ==1:\n",
    "        print(x, end= \" \")\n",
    "    "
   ]
  },
  {
   "cell_type": "markdown",
   "metadata": {},
   "source": [
    "range(1,100)한다면 range는100보다 1작은 1~99까지를 가진다.홀수이려면 2로 나누었을 때 나머지가 1이면 홀수임으로 x%2가1과 같을 때만 출력하도록 하여 홀수만 출력되었다."
   ]
  },
  {
   "cell_type": "markdown",
   "metadata": {},
   "source": [
    "#### 6. while문을 활용하여 1부터 100사이의 짝수의 합을 계산하여 출력하시오."
   ]
  },
  {
   "cell_type": "code",
   "execution_count": 7,
   "metadata": {},
   "outputs": [
    {
     "name": "stdout",
     "output_type": "stream",
     "text": [
      "2550\n"
     ]
    }
   ],
   "source": [
    "x = 0\n",
    "sum = 0\n",
    "while x < 101:\n",
    "    x = x + 1\n",
    "    if x%2 == 0:\n",
    "        sum = sum + x\n",
    "    \n",
    "print(sum)\n",
    "        \n",
    "\n"
   ]
  },
  {
   "cell_type": "markdown",
   "metadata": {},
   "source": [
    "while x <101밑에x=x+1은 x가 101보다 작으면 반복되고 x는 1씩 증가된다. 즉 100번 반복이 된다. 짝수이려면 2로나누었을 때 나머지가 0이 되어야 한다.if문을 사용하여 x%2 ==0이면 그 x를 sum에더하여 1부터 100사이의 짝수의 합을 출력하였다. "
   ]
  },
  {
   "cell_type": "markdown",
   "metadata": {},
   "source": [
    "#### 7. 사용자로 부터 임의의 정수를 입력받고, 해당 숫자를 역순으로 출력하는 프로그램을 작성하시오."
   ]
  },
  {
   "cell_type": "code",
   "execution_count": 12,
   "metadata": {},
   "outputs": [
    {
     "name": "stdout",
     "output_type": "stream",
     "text": [
      "정수를 입력하세요: 3125\n",
      "숫자 역순은 5213\n"
     ]
    }
   ],
   "source": [
    "num = input(\"정수를 입력하세요: \")\n",
    "print(\"숫자 역순은 \" + num[::-1])"
   ]
  },
  {
   "cell_type": "markdown",
   "metadata": {},
   "source": [
    "입력을 받을 때는 input()을 사용한다. ()안에 문자열을 넣으면 그 문자열을 출력하고 입력을 받는다. 문자열의 순서를 거꾸로 할 때에는 [::-1]을 하면 문자간의 차이가 -1씩 차이가 나게 하여 순서가 거꾸로 된다."
   ]
  },
  {
   "cell_type": "markdown",
   "metadata": {},
   "source": [
    "#### 8.사용자로 부터 정수를 입력받아서 1부터 그 사이에 존재하는 소수 (Prime number)를 출력하는 파이썬 프로그램을 작성하시오."
   ]
  },
  {
   "cell_type": "code",
   "execution_count": 10,
   "metadata": {},
   "outputs": [
    {
     "name": "stdout",
     "output_type": "stream",
     "text": [
      "정수를 입력하세요: 7\n",
      "1부터 7 까지의 존재하는 소수는 \n",
      "2 3 5 "
     ]
    }
   ],
   "source": [
    "num = int(input(\"정수를 입력하세요: \"))\n",
    "sum = 0\n",
    "def prime(a):\n",
    "    for i in range(2,a):\n",
    "        if a%i == 0:\n",
    "            return 0        \n",
    "    return 1\n",
    "\n",
    "print(\"1부터\", num, \"까지의 존재하는 소수는 \")\n",
    "for j in range(2,num):\n",
    "    if prime(j) == 1:\n",
    "        print(j,end=\" \")\n",
    "             \n",
    "        \n",
    "               "
   ]
  },
  {
   "cell_type": "markdown",
   "metadata": {},
   "source": [
    "함수를 만들 때 def 함수이름 이란 규칙으로 def prime(a)라는 함수를 만들었다.이 함수는 매개변수 하나를 받아 그 수가 소수이면 1 을 반환한다\n",
    "1은 소수가 아니므로 2부터시작하여 num까지 반복하여 prime함수의 값이 1이면 소수임으로 그 수를 출력한다."
   ]
  },
  {
   "cell_type": "markdown",
   "metadata": {},
   "source": [
    "#### 9.[ACM-ICPC 문제 2441번]\n",
    "* 별찍기_4"
   ]
  },
  {
   "cell_type": "code",
   "execution_count": 24,
   "metadata": {},
   "outputs": [
    {
     "name": "stdout",
     "output_type": "stream",
     "text": [
      "숫자를 입력하세요: 5\n",
      "*****\n",
      " ****\n",
      "  ***\n",
      "   **\n",
      "    *\n"
     ]
    }
   ],
   "source": [
    "num = int(input())\n",
    "for i in range(num):\n",
    "    for j in range(num):\n",
    "        if j >=i:\n",
    "            print(\"*\",end= \"\")\n",
    "        else:\n",
    "            print(\" \", end=\"\")\n",
    "    print()"
   ]
  },
  {
   "cell_type": "markdown",
   "metadata": {},
   "source": [
    "![2441번](https://github.com/wnehdals/sample/blob/master/star.png?raw=true)"
   ]
  },
  {
   "cell_type": "markdown",
   "metadata": {},
   "source": [
    " **이 출력되지 않을 때 에는 \" \"을 넣어줌으로 써 왼쪽 정력을 할 수 있다.\n",
    "그러므로 j>=1이면 *을 출력하고 아닐 경우 \" \"을 출력한다."
   ]
  },
  {
   "cell_type": "markdown",
   "metadata": {},
   "source": [
    "#### 10.[ACM-ICPC 문제 11721번]\n",
    "* 열개씩 끊어 출력하기"
   ]
  },
  {
   "cell_type": "code",
   "execution_count": 26,
   "metadata": {
    "scrolled": true
   },
   "outputs": [
    {
     "name": "stdout",
     "output_type": "stream",
     "text": [
      "asdfasdfasdfasdfasdf\n",
      "asdfasdfas\n",
      "dfasdfasdf\n"
     ]
    }
   ],
   "source": [
    "a = input()\n",
    "b = len(a)\n",
    "for i in range(b):\n",
    "    print(a[i], end= \"\")\n",
    "    if i%10 ==9:\n",
    "        print()"
   ]
  },
  {
   "cell_type": "markdown",
   "metadata": {},
   "source": [
    "![11721](https://github.com/wnehdals/sample/blob/master/11721.png?raw=true)"
   ]
  },
  {
   "cell_type": "markdown",
   "metadata": {},
   "source": [
    "문자열의 길이를  반환하는 함수는 len()이다. 그러므로 for문은 len(b)번 반복한다.열개씩 끊을려면 i가9,19,29,...9로 끊나는 인덱스에서 줄바꿈을 해주면 된다.\n",
    "그러므로 if문으로 10으로 나누었을 때 나머지가 9이면 줄바꿈을 하여 출력하였다."
   ]
  },
  {
   "cell_type": "markdown",
   "metadata": {},
   "source": [
    "#### 11. [ACM-ICPC 문제 2839번]\n",
    "* 설탕배달"
   ]
  },
  {
   "cell_type": "code",
   "execution_count": 15,
   "metadata": {},
   "outputs": [
    {
     "name": "stdout",
     "output_type": "stream",
     "text": [
      "18\n",
      "4\n"
     ]
    }
   ],
   "source": [
    "sugar = int(input())\n",
    "box5 = 0\n",
    "box3 = 0\n",
    "while True :\n",
    "    if sugar%5 == 0:\n",
    "        box5 = sugar//5\n",
    "        break\n",
    "    elif sugar < 3:\n",
    "        box3 = -1\n",
    "        break\n",
    "    sugar = sugar - 3\n",
    "    box3 = box3 + 1\n",
    "\n",
    "print(box5 + box3)"
   ]
  },
  {
   "cell_type": "markdown",
   "metadata": {},
   "source": [
    "![2839](https://github.com/wnehdals/sample/blob/master/2839.png?raw=true)"
   ]
  },
  {
   "cell_type": "markdown",
   "metadata": {},
   "source": [
    "while True 하면 무한 반복이 된다. 3kg씩 설탕을 빼주고 빼주었으니 3kg주머니는 1씩 증가하는것을 반복한다. 만약 설탕이 5로 나누어 진다면 5kg의주머니에 설탕/5한 값을 대입한다. 빼주는 것을 반복하다 만약 설탕이 3보다 작으면 3kg,5kg주머니를 가득 채우지 못하는 경우임으로 box3에 -1을 대입한다. 3kg주머니와5kg주머니를 합한 값을 출력하면 최소주머니의 개수가 출력된다."
   ]
  },
  {
   "cell_type": "markdown",
   "metadata": {},
   "source": [
    "과제를 하면서 내가 하고싶은 문장을 하기위해 강의자료도 다시찾아보고 강의자료에 없는 부분들은 직접 검색해보면서 찾아보면서 과제를 했습니다.먼저 c언어로 짜보고 그걸 토대로 파이썬문법으로 바꿔가면서 하다 보니 c언어와파이썬의 차이점도 알게되었습니다.다만 {}가 없다보니 이중for문과 이중for문 안의 if문에서 2번째 for문의 범위밖으로 나가려면 얼만큼 들여쓰기를 해서 빠져나가야 하는 부분이 보기가 어려웠습니다.제가 c언어가 더 익숙해서인지 {}로 영역표시하는게 더 편하게 느껴졌습니다."
   ]
  },
  {
   "cell_type": "code",
   "execution_count": null,
   "metadata": {},
   "outputs": [],
   "source": []
  }
 ],
 "metadata": {
  "kernelspec": {
   "display_name": "Python 3",
   "language": "python",
   "name": "python3"
  },
  "language_info": {
   "codemirror_mode": {
    "name": "ipython",
    "version": 3
   },
   "file_extension": ".py",
   "mimetype": "text/x-python",
   "name": "python",
   "nbconvert_exporter": "python",
   "pygments_lexer": "ipython3",
   "version": "3.6.5"
  }
 },
 "nbformat": 4,
 "nbformat_minor": 2
}
